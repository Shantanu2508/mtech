{
  "nbformat": 4,
  "nbformat_minor": 0,
  "metadata": {
    "colab": {
      "name": "Stack.ipynb",
      "provenance": [],
      "collapsed_sections": [],
      "authorship_tag": "ABX9TyM9TcPPhPKOYNTDArW4Io6O",
      "include_colab_link": true
    },
    "kernelspec": {
      "name": "python3",
      "display_name": "Python 3"
    },
    "language_info": {
      "name": "python"
    }
  },
  "cells": [
    {
      "cell_type": "markdown",
      "metadata": {
        "id": "view-in-github",
        "colab_type": "text"
      },
      "source": [
        "<a href=\"https://colab.research.google.com/github/Shantanu2508/mtech/blob/master/Stack.ipynb\" target=\"_parent\"><img src=\"https://colab.research.google.com/assets/colab-badge.svg\" alt=\"Open In Colab\"/></a>"
      ]
    },
    {
      "cell_type": "code",
      "metadata": {
        "id": "2cot5rQjhOz0"
      },
      "source": [
        "# Stack using array\n",
        "# NOTE: '__' before any variable/function means weakly private\n",
        "class stack:\n",
        "  \n",
        "  def __init__(self):\n",
        "    self.__data = []\n",
        "\n",
        "  def push(self,item):\n",
        "    self.__data.append(item)\n",
        "  \n",
        "  def pop(self):\n",
        "    if self.isEmpty():\n",
        "      print(\"Stack is Empty\")\n",
        "      return\n",
        "    return self.__data.pop()\n",
        "  \n",
        "  def top(self):\n",
        "    if self.isEmpty():\n",
        "      print(\"Stack is Empty\")\n",
        "      return\n",
        "    return self.__data[len(self.__data)-1]\n",
        "\n",
        "  \n",
        "  def size(self):\n",
        "    return len(self.__data)\n",
        "\n",
        "  def isEmpty(self):\n",
        "    if self.size() == 0:\n",
        "      return True\n",
        "    else:\n",
        "      return False\n",
        "\n",
        "  def printS(self):\n",
        "    print(self.__data)\n",
        "  "
      ],
      "execution_count": null,
      "outputs": []
    },
    {
      "cell_type": "code",
      "metadata": {
        "colab": {
          "base_uri": "https://localhost:8080/"
        },
        "id": "QzpPYkbmjUeL",
        "outputId": "ff4aab4d-7264-4850-defb-b9c395dde887"
      },
      "source": [
        "s = stack()\n",
        "s.push(5)\n",
        "s.push(10)\n",
        "s.push(15)\n",
        "s.push(20)\n",
        "s.printS()\n",
        "print(s.pop())\n",
        "s.printS()\n",
        "print(s.top())\n",
        "print(s.size())\n",
        "print(s.isEmpty())"
      ],
      "execution_count": null,
      "outputs": [
        {
          "output_type": "stream",
          "text": [
            "[5, 10, 15, 20]\n",
            "20\n",
            "[5, 10, 15]\n",
            "15\n",
            "3\n",
            "False\n"
          ],
          "name": "stdout"
        }
      ]
    },
    {
      "cell_type": "code",
      "metadata": {
        "id": "Odwiwchn-8Lu"
      },
      "source": [
        "#Stack using Linked List\n",
        "class Node:\n",
        "  def __init__(self,data):\n",
        "    self.data = data\n",
        "    self.next = None\n",
        "\n",
        "\n",
        "class Stack (Node):\n",
        "  def __init__(self):\n",
        "    self.head = None\n",
        "    self.count = 0\n",
        "\n",
        "  def push(self,data):\n",
        "    newNode = Node(data)\n",
        "    newNode.next = self.head\n",
        "    self.head = newNode\n",
        "    self.count = self.count + 1\n",
        "\n",
        "  def pop(self):\n",
        "    if self.isEmpty is True:\n",
        "      print(\"Stack is empty\")\n",
        "      return\n",
        "    else:\n",
        "      temp = self.head\n",
        "      self.head = self.head.next\n",
        "      temp = None\n",
        "      self.count = self.count - 1\n",
        "  \n",
        "  def size(self):\n",
        "    return count\n",
        "\n",
        "  def isEmpty(self):\n",
        "    if self.head is None:\n",
        "      return 1\n",
        "\n",
        "  def top(self):\n",
        "    print(self.head.data)"
      ],
      "execution_count": null,
      "outputs": []
    },
    {
      "cell_type": "code",
      "metadata": {
        "id": "pBDj7AMSj4Mc",
        "colab": {
          "base_uri": "https://localhost:8080/"
        },
        "outputId": "b41cc372-1798-48e8-d163-43428c949055"
      },
      "source": [
        "s = Stack()\n",
        "s.push(10)\n",
        "s.push(20)\n",
        "s.push(30)\n",
        "s.top()"
      ],
      "execution_count": null,
      "outputs": [
        {
          "output_type": "stream",
          "text": [
            "30\n"
          ],
          "name": "stdout"
        }
      ]
    },
    {
      "cell_type": "code",
      "metadata": {
        "colab": {
          "base_uri": "https://localhost:8080/"
        },
        "id": "W1emzlBAo65e",
        "outputId": "3588b7be-7cc3-4f0e-809b-da5b48006471"
      },
      "source": [
        "s.pop()\n",
        "s.top()"
      ],
      "execution_count": null,
      "outputs": [
        {
          "output_type": "stream",
          "text": [
            "20\n"
          ],
          "name": "stdout"
        }
      ]
    },
    {
      "cell_type": "markdown",
      "metadata": {
        "id": "D4UkMSKPAoMo"
      },
      "source": [
        "\n",
        "**Balanced paranthesis problem (GfG)**\n",
        "\n",
        "Given an expression string x. Examine whether the pairs and the orders of “{“,”}”,”(“,”)”,”[“,”]” are correct in exp.\n",
        "For example, the function should return 'true' for exp = “[()]{}{[()()]()}” and 'false' for exp = “[(])”."
      ]
    },
    {
      "cell_type": "code",
      "metadata": {
        "id": "HtMvBHYQp7XL"
      },
      "source": [
        "#Balanced paranthesis problem (GfG)\n",
        "class Node:\n",
        "    def __init__(self,data):\n",
        "        self.data = data\n",
        "        self.next = None\n",
        "\n",
        "class Stack(Node):\n",
        "    def __init__(self):\n",
        "        self.head = None\n",
        "        self.count = 0\n",
        "        \n",
        "    def push(self,data):\n",
        "        newNode = Node(data)\n",
        "        newNode.next = self.head\n",
        "        self.head = newNode\n",
        "        self.count = self.count + 1\n",
        "    \n",
        "    def pop(self):\n",
        "        if self.isEmpty is True:\n",
        "            return\n",
        "        else:\n",
        "            temp = self.head\n",
        "            self.head = self.head.next\n",
        "            temp = None\n",
        "            \n",
        "    def top(self):\n",
        "        return self.head.data\n",
        "    \n",
        "    def isEmpty(self):\n",
        "        if self.head is None:\n",
        "            return 1\n",
        "        else:\n",
        "            return 0\n",
        "        \n",
        "    \n",
        "class Solution(Stack):\n",
        "    \n",
        "    #Function to check if brackets are balanced or not.\n",
        "    def ispar(self,x):\n",
        "        # code here\n",
        "        s = Stack()\n",
        "        open_par_lis = ['[','{','(']\n",
        "        clos_par_lis = [ ']', '}', ')']\n",
        "        par_dict = { '[' : ']' , '{' : '}', '(' : ')' }\n",
        "        for brac in x:\n",
        "            #print(brac)\n",
        "            if brac in open_par_lis:\n",
        "                s.push(brac)\n",
        "            elif brac in clos_par_lis and not s.isEmpty():\n",
        "                par = s.top()\n",
        "                if brac == par_dict[par]:\n",
        "                    s.pop()\n",
        "                else:\n",
        "                    return 0\n",
        "            elif brac in clos_par_lis and s.isEmpty():\n",
        "                return 0\n",
        "        val = s.isEmpty()\n",
        "        return val\n",
        "       \n",
        "            "
      ],
      "execution_count": null,
      "outputs": []
    },
    {
      "cell_type": "code",
      "metadata": {
        "colab": {
          "base_uri": "https://localhost:8080/"
        },
        "id": "HfGqO3P25en8",
        "outputId": "6d902a7c-585e-4f72-b088-7a9c176d3289"
      },
      "source": [
        "sol = Solution()\n",
        "input='{([])}'\n",
        "val = sol.ispar(input)\n",
        "if val == 1:\n",
        "  print('balanced')\n",
        "else:\n",
        "  print('not balanced')"
      ],
      "execution_count": null,
      "outputs": [
        {
          "output_type": "stream",
          "text": [
            "balanced\n"
          ],
          "name": "stdout"
        }
      ]
    },
    {
      "cell_type": "code",
      "metadata": {
        "id": "1S_9jDZU6Lua"
      },
      "source": [
        ""
      ],
      "execution_count": null,
      "outputs": []
    }
  ]
}