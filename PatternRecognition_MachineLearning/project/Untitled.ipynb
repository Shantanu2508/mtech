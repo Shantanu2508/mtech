{
 "cells": [
  {
   "cell_type": "code",
   "execution_count": 9,
   "metadata": {},
   "outputs": [],
   "source": [
    "import tensorflow as tf\n",
    "import numpy as np"
   ]
  },
  {
   "cell_type": "code",
   "execution_count": 18,
   "metadata": {},
   "outputs": [],
   "source": [
    "a = tf.constant([2])\n",
    "b = tf.constant([20])"
   ]
  },
  {
   "cell_type": "code",
   "execution_count": 19,
   "metadata": {},
   "outputs": [],
   "source": [
    "@tf.function\n",
    "def add(a,b):\n",
    "    c = tf.add(a, b)\n",
    "    #c = a + b is also a way to define the sum of the terms\n",
    "    #print(c)\n",
    "    return c"
   ]
  },
  {
   "cell_type": "code",
   "execution_count": 20,
   "metadata": {},
   "outputs": [
    {
     "name": "stdout",
     "output_type": "stream",
     "text": [
      "22\n"
     ]
    }
   ],
   "source": [
    "result = tf.add(a,b)\n",
    "tf.print(result.numpy()[0])"
   ]
  },
  {
   "cell_type": "code",
   "execution_count": 21,
   "metadata": {},
   "outputs": [
    {
     "name": "stdout",
     "output_type": "stream",
     "text": [
      "TensorShape([3, 3])\n"
     ]
    }
   ],
   "source": [
    "A = tf.constant([[1,2,3],[2,3,4],[4,5,6]])\n",
    "tf.print(A.shape)"
   ]
  },
  {
   "cell_type": "code",
   "execution_count": 22,
   "metadata": {},
   "outputs": [
    {
     "name": "stdout",
     "output_type": "stream",
     "text": [
      "[[ 6]\n",
      " [ 9]\n",
      " [15]]\n"
     ]
    }
   ],
   "source": [
    "b = np.array([[1,1,1]]).reshape(3,1)\n",
    "c = A@b\n",
    "print(c.numpy())"
   ]
  },
  {
   "cell_type": "code",
   "execution_count": 23,
   "metadata": {},
   "outputs": [
    {
     "name": "stdout",
     "output_type": "stream",
     "text": [
      "Defined using tensorflow function :\n",
      "tf.Tensor(\n",
      "[[3 4 5]\n",
      " [4 5 6]\n",
      " [5 6 7]], shape=(3, 3), dtype=int32)\n",
      "Defined using normal expressions :\n",
      "tf.Tensor(\n",
      "[[3 4 5]\n",
      " [4 5 6]\n",
      " [5 6 7]], shape=(3, 3), dtype=int32)\n"
     ]
    }
   ],
   "source": [
    "Matrix_one = tf.constant([[1,2,3],[2,3,4],[3,4,5]])\n",
    "Matrix_two = tf.constant([[2,2,2],[2,2,2],[2,2,2]])\n",
    "\n",
    "@tf.function\n",
    "def add():\n",
    "    add_1_operation = tf.add(Matrix_one, Matrix_two)\n",
    "    return add_1_operation\n",
    "\n",
    "\n",
    "\n",
    "print (\"Defined using tensorflow function :\")\n",
    "add_1_operation = add()\n",
    "print(add_1_operation)\n",
    "print (\"Defined using normal expressions :\")\n",
    "add_2_operation = Matrix_one + Matrix_two\n",
    "print(add_2_operation)"
   ]
  },
  {
   "cell_type": "code",
   "execution_count": 24,
   "metadata": {},
   "outputs": [
    {
     "name": "stdout",
     "output_type": "stream",
     "text": [
      "Defined using tensorflow function :\n",
      "tf.Tensor(\n",
      "[[13 18]\n",
      " [18 25]], shape=(2, 2), dtype=int32)\n"
     ]
    }
   ],
   "source": [
    "\n",
    "Matrix_one = tf.constant([[2,3],[3,4]])\n",
    "Matrix_two = tf.constant([[2,3],[3,4]])\n",
    "\n",
    "@tf.function\n",
    "def mathmul():http://jrmeyer.github.io/machinelearning/2016/02/01/TensorFlow-Tutorial.html\n",
    "  return tf.matmul(Matrix_one, Matrix_two)\n",
    "\n",
    "\n",
    "mul_operation = mathmul()\n",
    "\n",
    "print (\"Defined using tensorflow function :\")\n",
    "print(mul_operation)\n"
   ]
  },
  {
   "cell_type": "code",
   "execution_count": 27,
   "metadata": {},
   "outputs": [
    {
     "name": "stdout",
     "output_type": "stream",
     "text": [
      "array([[2, 3],\n",
      "       [3, 4]], dtype=int32)\n",
      "array([[2, 3],\n",
      "       [3, 4]], dtype=int32)\n"
     ]
    }
   ],
   "source": [
    "tf.print(Matrix_one.numpy())\n",
    "tf.print(Matrix_two.numpy())"
   ]
  },
  {
   "cell_type": "markdown",
   "metadata": {},
   "source": [
    "### Why Tensors?\n",
    "\n",
    "The Tensor structure helps us by giving the freedom to shape the dataset in the way we want.\n",
    "\n",
    "And it is particularly helpful when dealing with images, due to the nature of how information in images are encoded,\n",
    "\n",
    "Thinking about images, its easy to understand that it has a height and width, so it would make sense to represent the information contained in it with a two dimensional structure (a matrix)... until you remember that images have colors, and to add information about the colors, we need another dimension, and thats when Tensors become particularly helpful.\n",
    "\n",
    "Images are encoded into color channels, the image data is represented into each color intensity in a color channel at a given point, the most common one being RGB, which means Red, Blue and Green."
   ]
  },
  {
   "cell_type": "markdown",
   "metadata": {},
   "source": [
    "### Variables"
   ]
  },
  {
   "cell_type": "code",
   "execution_count": 50,
   "metadata": {},
   "outputs": [],
   "source": [
    "v = tf.Variable(5)\n",
    "@tf.function\n",
    "def inc_one(v):\n",
    "    v = tf.add(v,2)\n",
    "    return v"
   ]
  },
  {
   "cell_type": "code",
   "execution_count": 51,
   "metadata": {},
   "outputs": [
    {
     "name": "stdout",
     "output_type": "stream",
     "text": [
      "v =  7\n",
      "v =  9\n",
      "v =  11\n"
     ]
    }
   ],
   "source": [
    "for i in range(3):\n",
    "    v = inc_one(v)\n",
    "    print('v = ',v.numpy())"
   ]
  },
  {
   "cell_type": "code",
   "execution_count": 56,
   "metadata": {},
   "outputs": [
    {
     "data": {
      "text/plain": [
       "15"
      ]
     },
     "execution_count": 56,
     "metadata": {},
     "output_type": "execute_result"
    }
   ],
   "source": [
    "a = tf.constant([4])\n",
    "tf.add(a,v).numpy()[0]"
   ]
  },
  {
   "cell_type": "markdown",
   "metadata": {},
   "source": [
    "### Important links\n",
    "* A tensorflow tutorial for email classification : http://jrmeyer.github.io/machinelearning/2016/02/01/TensorFlow-Tutorial.html"
   ]
  },
  {
   "cell_type": "markdown",
   "metadata": {},
   "source": [
    "### Eagerly execution"
   ]
  },
  {
   "cell_type": "code",
   "execution_count": 57,
   "metadata": {},
   "outputs": [
    {
     "data": {
      "text/plain": [
       "True"
      ]
     },
     "execution_count": 57,
     "metadata": {},
     "output_type": "execute_result"
    }
   ],
   "source": [
    "# verify eager execution is enabled\n",
    "tf.executing_eagerly()"
   ]
  },
  {
   "cell_type": "markdown",
   "metadata": {},
   "source": [
    "### Linear Regression using TF"
   ]
  },
  {
   "cell_type": "code",
   "execution_count": 59,
   "metadata": {},
   "outputs": [
    {
     "name": "stdout",
     "output_type": "stream",
     "text": [
      "--2021-04-21 18:33:41--  https://s3-api.us-geo.objectstorage.softlayer.net/cf-courses-data/CognitiveClass/ML0101ENv3/labs/FuelConsumptionCo2.csv\n",
      "Resolving s3-api.us-geo.objectstorage.softlayer.net (s3-api.us-geo.objectstorage.softlayer.net)... 67.228.254.196\n",
      "Connecting to s3-api.us-geo.objectstorage.softlayer.net (s3-api.us-geo.objectstorage.softlayer.net)|67.228.254.196|:443... connected.\n",
      "HTTP request sent, awaiting response... 200 OK\n",
      "Length: 72629 (71K) [text/csv]\n",
      "Saving to: ‘FuelConsumption.csv’\n",
      "\n",
      "FuelConsumption.csv 100%[===================>]  70.93K   115KB/s    in 0.6s    \n",
      "\n",
      "2021-04-21 18:33:44 (115 KB/s) - ‘FuelConsumption.csv’ saved [72629/72629]\n",
      "\n"
     ]
    }
   ],
   "source": [
    "#get dataset\n",
    "!wget -O FuelConsumption.csv https://s3-api.us-geo.objectstorage.softlayer.net/cf-courses-data/CognitiveClass/ML0101ENv3/labs/FuelConsumptionCo2.csv"
   ]
  },
  {
   "cell_type": "code",
   "execution_count": 141,
   "metadata": {},
   "outputs": [],
   "source": [
    "import matplotlib.pyplot as plt\n",
    "import pandas as pd\n",
    "import pylab as pl\n",
    "import numpy as np\n",
    "import tensorflow as tf\n",
    "import matplotlib.patches as mpatches\n",
    "import matplotlib.pyplot as plt\n",
    "%matplotlib inline"
   ]
  },
  {
   "cell_type": "code",
   "execution_count": 142,
   "metadata": {},
   "outputs": [
    {
     "name": "stdout",
     "output_type": "stream",
     "text": [
      "y= [[ 1.  4.]\n",
      " [ 9. 16.]]\n",
      "Gradient of y = \n",
      "[[2. 4.]\n",
      " [6. 8.]]\n"
     ]
    }
   ],
   "source": [
    "#Example of Solving gradient \n",
    "with tf.GradientTape() as tape:\n",
    "    x = tf.constant([[1.,2.],[3,4]])\n",
    "    tape.watch(x)\n",
    "    y = x*x\n",
    "    grad_y = tape.gradient(y,x)\n",
    "    print('y=',y.numpy())\n",
    "    print('Gradient of y = ')\n",
    "    print(grad_y.numpy())"
   ]
  },
  {
   "cell_type": "code",
   "execution_count": 143,
   "metadata": {},
   "outputs": [
    {
     "data": {
      "text/html": [
       "<div>\n",
       "<style scoped>\n",
       "    .dataframe tbody tr th:only-of-type {\n",
       "        vertical-align: middle;\n",
       "    }\n",
       "\n",
       "    .dataframe tbody tr th {\n",
       "        vertical-align: top;\n",
       "    }\n",
       "\n",
       "    .dataframe thead th {\n",
       "        text-align: right;\n",
       "    }\n",
       "</style>\n",
       "<table border=\"1\" class=\"dataframe\">\n",
       "  <thead>\n",
       "    <tr style=\"text-align: right;\">\n",
       "      <th></th>\n",
       "      <th>MODELYEAR</th>\n",
       "      <th>MAKE</th>\n",
       "      <th>MODEL</th>\n",
       "      <th>VEHICLECLASS</th>\n",
       "      <th>ENGINESIZE</th>\n",
       "      <th>CYLINDERS</th>\n",
       "      <th>TRANSMISSION</th>\n",
       "      <th>FUELTYPE</th>\n",
       "      <th>FUELCONSUMPTION_CITY</th>\n",
       "      <th>FUELCONSUMPTION_HWY</th>\n",
       "      <th>FUELCONSUMPTION_COMB</th>\n",
       "      <th>FUELCONSUMPTION_COMB_MPG</th>\n",
       "      <th>CO2EMISSIONS</th>\n",
       "    </tr>\n",
       "  </thead>\n",
       "  <tbody>\n",
       "    <tr>\n",
       "      <th>0</th>\n",
       "      <td>2014</td>\n",
       "      <td>ACURA</td>\n",
       "      <td>ILX</td>\n",
       "      <td>COMPACT</td>\n",
       "      <td>2.0</td>\n",
       "      <td>4</td>\n",
       "      <td>AS5</td>\n",
       "      <td>Z</td>\n",
       "      <td>9.9</td>\n",
       "      <td>6.7</td>\n",
       "      <td>8.5</td>\n",
       "      <td>33</td>\n",
       "      <td>196</td>\n",
       "    </tr>\n",
       "    <tr>\n",
       "      <th>1</th>\n",
       "      <td>2014</td>\n",
       "      <td>ACURA</td>\n",
       "      <td>ILX</td>\n",
       "      <td>COMPACT</td>\n",
       "      <td>2.4</td>\n",
       "      <td>4</td>\n",
       "      <td>M6</td>\n",
       "      <td>Z</td>\n",
       "      <td>11.2</td>\n",
       "      <td>7.7</td>\n",
       "      <td>9.6</td>\n",
       "      <td>29</td>\n",
       "      <td>221</td>\n",
       "    </tr>\n",
       "    <tr>\n",
       "      <th>2</th>\n",
       "      <td>2014</td>\n",
       "      <td>ACURA</td>\n",
       "      <td>ILX HYBRID</td>\n",
       "      <td>COMPACT</td>\n",
       "      <td>1.5</td>\n",
       "      <td>4</td>\n",
       "      <td>AV7</td>\n",
       "      <td>Z</td>\n",
       "      <td>6.0</td>\n",
       "      <td>5.8</td>\n",
       "      <td>5.9</td>\n",
       "      <td>48</td>\n",
       "      <td>136</td>\n",
       "    </tr>\n",
       "    <tr>\n",
       "      <th>3</th>\n",
       "      <td>2014</td>\n",
       "      <td>ACURA</td>\n",
       "      <td>MDX 4WD</td>\n",
       "      <td>SUV - SMALL</td>\n",
       "      <td>3.5</td>\n",
       "      <td>6</td>\n",
       "      <td>AS6</td>\n",
       "      <td>Z</td>\n",
       "      <td>12.7</td>\n",
       "      <td>9.1</td>\n",
       "      <td>11.1</td>\n",
       "      <td>25</td>\n",
       "      <td>255</td>\n",
       "    </tr>\n",
       "    <tr>\n",
       "      <th>4</th>\n",
       "      <td>2014</td>\n",
       "      <td>ACURA</td>\n",
       "      <td>RDX AWD</td>\n",
       "      <td>SUV - SMALL</td>\n",
       "      <td>3.5</td>\n",
       "      <td>6</td>\n",
       "      <td>AS6</td>\n",
       "      <td>Z</td>\n",
       "      <td>12.1</td>\n",
       "      <td>8.7</td>\n",
       "      <td>10.6</td>\n",
       "      <td>27</td>\n",
       "      <td>244</td>\n",
       "    </tr>\n",
       "  </tbody>\n",
       "</table>\n",
       "</div>"
      ],
      "text/plain": [
       "   MODELYEAR   MAKE       MODEL VEHICLECLASS  ENGINESIZE  CYLINDERS  \\\n",
       "0       2014  ACURA         ILX      COMPACT         2.0          4   \n",
       "1       2014  ACURA         ILX      COMPACT         2.4          4   \n",
       "2       2014  ACURA  ILX HYBRID      COMPACT         1.5          4   \n",
       "3       2014  ACURA     MDX 4WD  SUV - SMALL         3.5          6   \n",
       "4       2014  ACURA     RDX AWD  SUV - SMALL         3.5          6   \n",
       "\n",
       "  TRANSMISSION FUELTYPE  FUELCONSUMPTION_CITY  FUELCONSUMPTION_HWY  \\\n",
       "0          AS5        Z                   9.9                  6.7   \n",
       "1           M6        Z                  11.2                  7.7   \n",
       "2          AV7        Z                   6.0                  5.8   \n",
       "3          AS6        Z                  12.7                  9.1   \n",
       "4          AS6        Z                  12.1                  8.7   \n",
       "\n",
       "   FUELCONSUMPTION_COMB  FUELCONSUMPTION_COMB_MPG  CO2EMISSIONS  \n",
       "0                   8.5                        33           196  \n",
       "1                   9.6                        29           221  \n",
       "2                   5.9                        48           136  \n",
       "3                  11.1                        25           255  \n",
       "4                  10.6                        27           244  "
      ]
     },
     "execution_count": 143,
     "metadata": {},
     "output_type": "execute_result"
    }
   ],
   "source": [
    "df = pd.read_csv(\"FuelConsumption.csv\")\n",
    "df.head()"
   ]
  },
  {
   "cell_type": "markdown",
   "metadata": {},
   "source": [
    "Lets say we want to use linear regression to predict Co2Emission of cars based on their engine size. So, lets define X and Y value for the linear regression, that is, train_x and train_y:\n"
   ]
  },
  {
   "cell_type": "code",
   "execution_count": 144,
   "metadata": {},
   "outputs": [],
   "source": [
    "train_x = np.array(df[['ENGINESIZE']])\n",
    "train_y = np.array(df[['CO2EMISSIONS']])"
   ]
  },
  {
   "cell_type": "code",
   "execution_count": 145,
   "metadata": {},
   "outputs": [],
   "source": [
    "a = tf.Variable(19.0)\n",
    "b = tf.Variable(11.0)\n",
    "\n",
    "def h(x):\n",
    "    y = a*x + b\n",
    "    return y"
   ]
  },
  {
   "cell_type": "code",
   "execution_count": 146,
   "metadata": {},
   "outputs": [],
   "source": [
    "def loss_object(y,train_y):\n",
    "    return tf.reduce_mean(tf.square(y-train_y))"
   ]
  },
  {
   "cell_type": "code",
   "execution_count": 147,
   "metadata": {},
   "outputs": [
    {
     "data": {
      "text/plain": [
       "[<matplotlib.lines.Line2D at 0x7fcfc891d430>]"
      ]
     },
     "execution_count": 147,
     "metadata": {},
     "output_type": "execute_result"
    },
    {
     "data": {
      "image/png": "[encoded data removed]",
      "text/plain": [
       "<Figure size 432x288 with 1 Axes>"
      ]
     },
     "metadata": {
      "needs_background": "light"
     },
     "output_type": "display_data"
    }
   ],
   "source": [
    "learning_rate = 0.01\n",
    "loss_values = np.array([])\n",
    "train_data = np.array([])\n",
    "\n",
    "for epoch in range(200):\n",
    "    with tf.GradientTape() as tape:\n",
    "        y_predicted = h(train_x)\n",
    "        #print(y_predicted.shape)\n",
    "        loss_value = loss_object(y_predicted,train_y)\n",
    "        loss_values = np.append(loss_values,loss_value)\n",
    "        \n",
    "        grad = tape.gradient(loss_value,[b,a])\n",
    "    \n",
    "        #weight update\n",
    "        b.assign_sub(grad[0]*learning_rate)\n",
    "        a.assign_sub(grad[1]*learning_rate)\n",
    "        #print(grad)\n",
    "        if epoch % 5 == 0:\n",
    "            np.append(train_data,np.array([a.numpy(), b.numpy()]))\n",
    "\n",
    "            \n",
    "plt.grid()\n",
    "plt.plot(loss_values,'ro')\n",
    "#plt.legend()"
   ]
  },
  {
   "cell_type": "markdown",
   "metadata": {},
   "source": [
    "### Logistic Regression"
   ]
  },
  {
   "cell_type": "code",
   "execution_count": 148,
   "metadata": {},
   "outputs": [],
   "source": [
    "import tensorflow as tf\n",
    "import numpy as np\n",
    "import pandas as pd\n",
    "from sklearn.datasets import load_iris\n",
    "from sklearn.model_selection import train_test_split\n",
    "import matplotlib.pyplot as plt"
   ]
  },
  {
   "cell_type": "code",
   "execution_count": 149,
   "metadata": {},
   "outputs": [],
   "source": [
    "iris = load_iris()\n",
    "iris_X, iris_y = iris.data[:-1,:], iris.target[:-1]\n",
    "iris_y= pd.get_dummies(iris_y).values\n",
    "trainX, testX, trainY, testY = train_test_split(iris_X, iris_y, test_size=0.33, random_state=42)"
   ]
  },
  {
   "cell_type": "code",
   "execution_count": 162,
   "metadata": {},
   "outputs": [],
   "source": [
    "numFeatures = trainX.shape[1]\n",
    "numLabels = trainY.shape[1]"
   ]
  },
  {
   "cell_type": "code",
   "execution_count": 163,
   "metadata": {},
   "outputs": [],
   "source": [
    "trainX = tf.constant(trainX,dtype='float32')\n",
    "trainY = tf.constant(trainY,dtype='float32')\n",
    "testX = tf.constant(testX,dtype='float32')\n",
    "testY = tf.constant(testY,dtype='float32')\n",
    "\n",
    "W = tf.Variable(tf.zeros([4,3]))\n",
    "b = tf.Variable(tf.zeros([3]))"
   ]
  },
  {
   "cell_type": "code",
   "execution_count": 166,
   "metadata": {},
   "outputs": [],
   "source": [
    "weights = tf.Variable(tf.random.normal([numFeatures,numLabels],mean = 0.,stddev =0.01),dtype='float32')\n",
    "bias = tf.Variable(tf.random.normal([1,numLabels],mean = 0., stddev = 0.01))"
   ]
  },
  {
   "cell_type": "code",
   "execution_count": 164,
   "metadata": {},
   "outputs": [],
   "source": [
    "def logistic_reg(x):\n",
    "    return tf.nn.sigmoid(tf.add(tf.matmul(x,weights) , bias))"
   ]
  },
  {
   "cell_type": "code",
   "execution_count": 172,
   "metadata": {},
   "outputs": [],
   "source": [
    "# Accuracy metric.\n",
    "def accuracy(y_pred, y_true):\n",
    "# Predicted class is the index of the highest score in prediction vector (i.e. argmax).\n",
    "\n",
    "    correct_prediction = tf.equal(tf.argmax(y_pred, 1), tf.argmax(y_true, 1))\n",
    "\n",
    "    return tf.reduce_mean(tf.cast(correct_prediction, tf.float32))"
   ]
  },
  {
   "cell_type": "code",
   "execution_count": 173,
   "metadata": {},
   "outputs": [],
   "source": [
    "numEpochs = 700\n",
    "\n",
    "learning_rate = 0.001\n",
    "loss_object = tf.keras.losses.MeanSquaredLogarithmicError()\n",
    "optimizer = tf.keras.optimizers.SGD(learning_rate)\n"
   ]
  },
  {
   "cell_type": "code",
   "execution_count": 174,
   "metadata": {},
   "outputs": [],
   "source": [
    "def run_optimization(x,y):\n",
    "    with tf.GradientTape() as g:\n",
    "        pred = logistic_reg(trainX)\n",
    "        loss = loss_object(pred,y)\n",
    "    gradients = g.gradient(loss,[weights,bias])\n",
    "    optimizer.apply_gradients(zip(gradients,[weights,bias]))"
   ]
  },
  {
   "cell_type": "code",
   "execution_count": 175,
   "metadata": {},
   "outputs": [
    {
     "name": "stdout",
     "output_type": "stream",
     "text": [
      "step 0, training accuracy 0.32, loss 0.132406, change in loss 0.132406\n",
      "step 10, training accuracy 0.32, loss 0.131767, change in loss 0.000639737\n",
      "step 20, training accuracy 0.32, loss 0.13114, change in loss 0.0006271\n",
      "step 30, training accuracy 0.32, loss 0.130525, change in loss 0.000614494\n",
      "step 40, training accuracy 0.32, loss 0.129923, change in loss 0.000602037\n",
      "step 50, training accuracy 0.32, loss 0.129333, change in loss 0.000589684\n",
      "step 60, training accuracy 0.32, loss 0.128756, change in loss 0.000577465\n",
      "step 70, training accuracy 0.32, loss 0.128191, change in loss 0.00056535\n",
      "step 80, training accuracy 0.32, loss 0.127637, change in loss 0.000553384\n",
      "step 90, training accuracy 0.32, loss 0.127096, change in loss 0.000541553\n",
      "step 100, training accuracy 0.32, loss 0.126566, change in loss 0.00052993\n",
      "step 110, training accuracy 0.32, loss 0.126047, change in loss 0.000518411\n",
      "step 120, training accuracy 0.32, loss 0.12554, change in loss 0.000507072\n",
      "step 130, training accuracy 0.32, loss 0.125044, change in loss 0.000495911\n",
      "step 140, training accuracy 0.32, loss 0.124559, change in loss 0.000484943\n",
      "step 150, training accuracy 0.32, loss 0.124085, change in loss 0.000474133\n",
      "step 160, training accuracy 0.32, loss 0.123622, change in loss 0.00046353\n",
      "step 170, training accuracy 0.32, loss 0.123169, change in loss 0.000453115\n",
      "step 180, training accuracy 0.32, loss 0.122726, change in loss 0.00044287\n",
      "step 190, training accuracy 0.32, loss 0.122293, change in loss 0.000432827\n",
      "step 200, training accuracy 0.32, loss 0.12187, change in loss 0.000422969\n",
      "step 210, training accuracy 0.32, loss 0.121457, change in loss 0.000413321\n",
      "step 220, training accuracy 0.32, loss 0.121053, change in loss 0.000403874\n",
      "step 230, training accuracy 0.32, loss 0.120658, change in loss 0.00039459\n",
      "step 240, training accuracy 0.32, loss 0.120273, change in loss 0.000385545\n",
      "step 250, training accuracy 0.32, loss 0.119896, change in loss 0.000376664\n",
      "step 260, training accuracy 0.32, loss 0.119528, change in loss 0.000367977\n",
      "step 270, training accuracy 0.32, loss 0.119168, change in loss 0.000359498\n",
      "step 280, training accuracy 0.32, loss 0.118817, change in loss 0.000351205\n",
      "step 290, training accuracy 0.32, loss 0.118474, change in loss 0.000343092\n",
      "step 300, training accuracy 0.32, loss 0.118139, change in loss 0.000335194\n",
      "step 310, training accuracy 0.32, loss 0.117811, change in loss 0.000327453\n",
      "step 320, training accuracy 0.32, loss 0.117492, change in loss 0.000319898\n",
      "step 330, training accuracy 0.32, loss 0.117179, change in loss 0.000312537\n",
      "step 340, training accuracy 0.32, loss 0.116874, change in loss 0.00030534\n",
      "step 350, training accuracy 0.32, loss 0.116575, change in loss 0.000298344\n",
      "step 360, training accuracy 0.32, loss 0.116284, change in loss 0.000291504\n",
      "step 370, training accuracy 0.32, loss 0.115999, change in loss 0.000284836\n",
      "step 380, training accuracy 0.32, loss 0.115721, change in loss 0.000278316\n",
      "step 390, training accuracy 0.32, loss 0.115449, change in loss 0.000271991\n",
      "step 400, training accuracy 0.32, loss 0.115183, change in loss 0.000265807\n",
      "step 410, training accuracy 0.32, loss 0.114923, change in loss 0.000259802\n",
      "step 420, training accuracy 0.32, loss 0.114669, change in loss 0.000253916\n",
      "step 430, training accuracy 0.32, loss 0.114421, change in loss 0.000248238\n",
      "step 440, training accuracy 0.32, loss 0.114178, change in loss 0.000242651\n",
      "step 450, training accuracy 0.32, loss 0.113941, change in loss 0.000237226\n",
      "step 460, training accuracy 0.32, loss 0.113709, change in loss 0.000231974\n",
      "step 470, training accuracy 0.32, loss 0.113482, change in loss 0.000226811\n",
      "step 480, training accuracy 0.32, loss 0.11326, change in loss 0.000221826\n",
      "step 490, training accuracy 0.32, loss 0.113044, change in loss 0.000216953\n",
      "step 500, training accuracy 0.32, loss 0.112831, change in loss 0.000212207\n",
      "step 510, training accuracy 0.32, loss 0.112624, change in loss 0.000207588\n",
      "step 520, training accuracy 0.32, loss 0.112421, change in loss 0.000203103\n",
      "step 530, training accuracy 0.32, loss 0.112222, change in loss 0.000198737\n",
      "step 540, training accuracy 0.32, loss 0.112027, change in loss 0.000194483\n",
      "step 550, training accuracy 0.32, loss 0.111837, change in loss 0.00019034\n",
      "step 560, training accuracy 0.32, loss 0.111651, change in loss 0.000186309\n",
      "step 570, training accuracy 0.32, loss 0.111468, change in loss 0.000182375\n",
      "step 580, training accuracy 0.32, loss 0.11129, change in loss 0.000178576\n",
      "step 590, training accuracy 0.32, loss 0.111115, change in loss 0.000174858\n",
      "step 600, training accuracy 0.32, loss 0.110944, change in loss 0.000171259\n",
      "step 610, training accuracy 0.32, loss 0.110776, change in loss 0.000167735\n",
      "step 620, training accuracy 0.32, loss 0.110612, change in loss 0.00016433\n",
      "step 630, training accuracy 0.32, loss 0.110451, change in loss 0.000160977\n",
      "step 640, training accuracy 0.32, loss 0.110293, change in loss 0.000157751\n",
      "step 650, training accuracy 0.32, loss 0.110138, change in loss 0.0001546\n",
      "step 660, training accuracy 0.32, loss 0.109987, change in loss 0.000151537\n",
      "step 670, training accuracy 0.32, loss 0.109838, change in loss 0.00014855\n",
      "step 680, training accuracy 0.32, loss 0.109693, change in loss 0.000145659\n",
      "step 690, training accuracy 0.32, loss 0.10955, change in loss 0.000142828\n",
      "final accuracy on test set: 0.32\n"
     ]
    }
   ],
   "source": [
    "# Initialize reporting variables\n",
    "display_step = 10\n",
    "epoch_values = []\n",
    "accuracy_values = []\n",
    "loss_values = []\n",
    "loss = 0\n",
    "diff = 1\n",
    "# Training epochs\n",
    "for i in range(numEpochs):\n",
    "    if i > 1 and diff < .0001:\n",
    "        print(\"change in loss %g; convergence.\"%diff)\n",
    "        break\n",
    "    else:\n",
    "        # Run training step\n",
    "        run_optimization(trainX, trainY)\n",
    "        \n",
    "        # Report occasional stats\n",
    "        if i % display_step == 0:\n",
    "            # Add epoch to epoch_values\n",
    "            epoch_values.append(i)\n",
    "            \n",
    "            pred = logistic_reg(testX)\n",
    "\n",
    "            newLoss = loss_object(pred, testY)\n",
    "            # Add loss to live graphing variable\n",
    "            loss_values.append(newLoss)\n",
    "            \n",
    "            # Generate accuracy stats on test data\n",
    "            acc = accuracy(pred, testY)\n",
    "            accuracy_values.append(acc)\n",
    "            \n",
    "    \n",
    "            # Re-assign values for variables\n",
    "            diff = abs(newLoss - loss)\n",
    "            loss = newLoss\n",
    "\n",
    "            #generate print statements\n",
    "            print(\"step %d, training accuracy %g, loss %g, change in loss %g\"%(i, acc, newLoss, diff))\n",
    "\n",
    "        \n",
    "\n",
    "          \n",
    "\n",
    "# How well do we perform on held-out test data?\n",
    "print(\"final accuracy on test set: %s\" %acc.numpy())\n",
    "\n",
    "\n"
   ]
  },
  {
   "cell_type": "code",
   "execution_count": 176,
   "metadata": {},
   "outputs": [
    {
     "name": "stderr",
     "output_type": "stream",
     "text": [
      "/home/shantanu/anaconda3/lib/python3.8/site-packages/numpy/core/fromnumeric.py:3334: RuntimeWarning: Mean of empty slice.\n",
      "  return _methods._mean(a, axis=axis, dtype=dtype,\n",
      "/home/shantanu/anaconda3/lib/python3.8/site-packages/numpy/core/_methods.py:161: RuntimeWarning: invalid value encountered in double_scalars\n",
      "  ret = ret.dtype.type(ret / rcount)\n"
     ]
    },
    {
     "data": {
      "image/png": "[encoded data removed]",
      "text/plain": [
       "<Figure size 432x288 with 1 Axes>"
      ]
     },
     "metadata": {
      "needs_background": "light"
     },
     "output_type": "display_data"
    }
   ],
   "source": [
    "%matplotlib inline\n",
    "import numpy as np\n",
    "import matplotlib.pyplot as plt\n",
    "plt.plot([np.mean(loss_values[i-50:i]) for i in range(len(loss_values))])\n",
    "plt.show()"
   ]
  },
  {
   "cell_type": "code",
   "execution_count": null,
   "metadata": {},
   "outputs": [],
   "source": []
  }
 ],
 "metadata": {
  "kernelspec": {
   "display_name": "Python 3",
   "language": "python",
   "name": "python3"
  },
  "language_info": {
   "codemirror_mode": {
    "name": "ipython",
    "version": 3
   },
   "file_extension": ".py",
   "mimetype": "text/x-python",
   "name": "python",
   "nbconvert_exporter": "python",
   "pygments_lexer": "ipython3",
   "version": "3.8.3"
  }
 },
 "nbformat": 4,
 "nbformat_minor": 4
}
