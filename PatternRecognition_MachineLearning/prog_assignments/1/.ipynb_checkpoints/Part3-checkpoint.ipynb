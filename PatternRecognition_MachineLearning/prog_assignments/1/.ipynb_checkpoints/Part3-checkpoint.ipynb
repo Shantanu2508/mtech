{
 "cells": [
  {
   "cell_type": "code",
   "execution_count": null,
   "metadata": {},
   "outputs": [],
   "source": [
    "def holdoutCVkNN(X,Y,pho,nrep,intK):\n",
    "    nK=len(intK)\n",
    "    n=X.shape[0]\n",
    "    ntr=math.ceil(n*(1-pho))\n",
    "    \n",
    "    Tm=np.zeros(nK)\n",
    "    Ts=np.zeros(nK)\n",
    "    Vm=np.zeros(nK)\n",
    "    Vs=np.zeros(nK)\n",
    "    \n",
    "    ym=(max(Y)+min(Y))/2\n",
    "    \n",
    "    for rep in range(nrep):\n",
    "        I=np.random.permutation(n)\n",
    "        \n",
    "        #Training Set\n",
    "        Xtr=X[I[0:ntr],:]\n",
    "        Ytr=Y[I[0:ntr]]\n",
    "        \n",
    "        #Validation Set\n",
    "        Xvl=X[I[ntr+1:n-1],:]\n",
    "        Yvl=Y[I[ntr+1:n-1]]\n",
    "        \n",
    "        ik=0\n",
    "        for k in intK:\n",
    "            \n",
    "            trError=calcErr(np.reshape(kNNClassify(Xtr,Ytr,k,Xtr),Ytr.shape),Ytr)\n",
    "            Tm[ik]=Tm[ik]+trError\n",
    "            Ts[ik]=Ts[ik]+trError**2\n",
    "            \n",
    "            valError=calcErr(np.reshape(kNNClassify(Xvl,Yvl,k,Xvl),Yvl.shape),Yvl)\n",
    "            Vm[ik]=Vm[ik]+valError\n",
    "            Vs[ik]=Vs[ik]+valError**2\n",
    "        \n",
    "            print(\"k=\",k,\" iter=\",rep+1,\" valErr=\",valError,\" trErr=\",trError,\"Mean of error on training set for k=\",k,\"is =\",Tm[ik],\"Mean of error on Validation set for k=\",k,\"is =\",Tm[ik],\"\\n\")\n",
    "            \n",
    "            ik=ik+1\n",
    "            \n",
    "        print(\".......................................................................\\n\")\n",
    "\n",
    "    #Average over trials\n",
    "    Tm=Tm/nrep\n",
    "    Ts=Ts/nrep - Tm**2\n",
    "    \n",
    "    Vm=Vm/nrep\n",
    "    Vs=Vs/nrep - Vm**2\n",
    "        \n",
    "    return intK[np.argmin(Vm)]\n",
    "    \n",
    "def calcErr(Yp,Y):\n",
    "    return np.count_nonzero(Yp-Y)/len(Y)"
   ]
  }
 ],
 "metadata": {
  "kernelspec": {
   "display_name": "Python 3",
   "language": "python",
   "name": "python3"
  },
  "language_info": {
   "codemirror_mode": {
    "name": "ipython",
    "version": 3
   },
   "file_extension": ".py",
   "mimetype": "text/x-python",
   "name": "python",
   "nbconvert_exporter": "python",
   "pygments_lexer": "ipython3",
   "version": "3.8.3"
  }
 },
 "nbformat": 4,
 "nbformat_minor": 4
}
