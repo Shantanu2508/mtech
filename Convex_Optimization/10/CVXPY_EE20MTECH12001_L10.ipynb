{
  "nbformat": 4,
  "nbformat_minor": 0,
  "metadata": {
    "colab": {
      "name": "CVXPY_EE20MTECH12001_L10.ipynb",
      "provenance": []
    },
    "kernelspec": {
      "name": "python3",
      "display_name": "Python 3"
    },
    "language_info": {
      "name": "python"
    }
  },
  "cells": [
    {
      "cell_type": "markdown",
      "metadata": {
        "id": "T5zDnkqZXJc7"
      },
      "source": [
        "**EE20MTECH12001 : Shantanu Yadav**"
      ]
    },
    {
      "cell_type": "markdown",
      "metadata": {
        "id": "2iONdxMOyKS2"
      },
      "source": [
        "[Problem Statement](https://github.com/Shantanu2508/mtech/blob/master/Convex_Optimization/10/Lab_10-2.pdf)"
      ]
    },
    {
      "cell_type": "code",
      "metadata": {
        "id": "oEZ5coo5W-sh"
      },
      "source": [
        "import numpy as np\n",
        "import cvxpy as cp\n",
        "import matplotlib.pyplot as plt"
      ],
      "execution_count": 2,
      "outputs": []
    },
    {
      "cell_type": "code",
      "metadata": {
        "colab": {
          "base_uri": "https://localhost:8080/",
          "height": 316
        },
        "id": "QHXQuIQ4YNQ5",
        "outputId": "c43592ef-d5a1-4d58-b868-939a19c05f6a"
      },
      "source": [
        "upperBound = 100\n",
        "lowerBound = 10\n",
        "\n",
        "theta = 15*np.pi/180\n",
        "\n",
        "mass = 0.1\n",
        "Tmax = 2\n",
        "g = np.array([0,-9.8]).reshape((2,1))\n",
        "h = 0.1\n",
        "p_init = np.array([0,0])\n",
        "p_des = np.array([10,2])\n",
        "orientation_Matrix = np.array([[- np.sin(theta), np.sin(theta) ], [ np.cos(theta), np.cos(theta) ]])\n",
        "Feasible_p = 0\n",
        "Feasible_T = 0\n",
        "while not lowerBound + 1 == upperBound:\n",
        "  k = int((upperBound + lowerBound)/2.0)\n",
        "  #print(k)\n",
        "  T = cp.Variable((2,k-1))\n",
        "  p = cp.Variable((2,k))\n",
        "  v = cp.Variable((2,k))\n",
        "\n",
        "  F = orientation_Matrix@T + mass*np.tile(g,(1,k-1))\n",
        "\n",
        "  constraints = [0 <= T, T <= Tmax]\n",
        "  constraints += [p[:,0] == p_init, p[:,k-1] == p_des]\n",
        "  constraints += [v[:,0] == 0 , v[:,k-1] == 0]\n",
        "  constraints += [p[:,1:k] == p[:,0:k-1] + h*v[:,0:k-1]]\n",
        "  constraints += [v[:,1:k] == v[:,0:k-1] + (h/mass)*F]\n",
        "\n",
        "  prob = cp.Problem(cp.Minimize(0),constraints)\n",
        "  optimal_value = prob.solve()\n",
        "  if optimal_value == 0:\n",
        "    upperBound = k\n",
        "    Feasible_T = T.value\n",
        "    Feasible_p = p.value\n",
        "  else :\n",
        "    lowerBound = k\n",
        "k = upperBound\n",
        "print('Minimum k value is ', k)\n",
        "plt.subplot(2,1,1)\n",
        "plt.plot(Feasible_p[0,:].T,Feasible_p[1,:].T)\n",
        "plt.title('Trajectory')\n",
        "plt.subplot(2,1,2)\n",
        "plt.plot(Feasible_T[0,:].T,label='left')\n",
        "plt.plot(Feasible_T[1,:].T,label='right')\n",
        "plt.legend()\n",
        "plt.title('Tensions')\n",
        "     \n",
        "\n"
      ],
      "execution_count": 3,
      "outputs": [
        {
          "output_type": "stream",
          "text": [
            "Minimum k value is  34\n"
          ],
          "name": "stdout"
        },
        {
          "output_type": "execute_result",
          "data": {
            "text/plain": [
              "Text(0.5, 1.0, 'Tensions')"
            ]
          },
          "metadata": {
            "tags": []
          },
          "execution_count": 3
        },
        {
          "output_type": "display_data",
          "data": {
            "image/png": "[encoded data removed]",
            "text/plain": [
              "<Figure size 432x288 with 2 Axes>"
            ]
          },
          "metadata": {
            "tags": [],
            "needs_background": "light"
          }
        }
      ]
    },
    {
      "cell_type": "code",
      "metadata": {
        "id": "PtZhWR-GvjmL"
      },
      "source": [
        ""
      ],
      "execution_count": null,
      "outputs": []
    }
  ]
}