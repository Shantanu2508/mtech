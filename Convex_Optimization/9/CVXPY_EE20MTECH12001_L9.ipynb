{
  "nbformat": 4,
  "nbformat_minor": 0,
  "metadata": {
    "colab": {
      "name": "CVXPY_EE20MTECH12001_L9.ipynb",
      "provenance": []
    },
    "kernelspec": {
      "name": "python3",
      "display_name": "Python 3"
    },
    "language_info": {
      "name": "python"
    }
  },
  "cells": [
    {
      "cell_type": "markdown",
      "metadata": {
        "id": "6-DPnOMyHZ75"
      },
      "source": [
        "**EE20MTECH12001 : Shantanu Yadav**"
      ]
    },
    {
      "cell_type": "markdown",
      "metadata": {
        "id": "xj4se6omZLYy"
      },
      "source": [
        "**Problem Statement**"
      ]
    },
    {
      "cell_type": "markdown",
      "metadata": {
        "id": "HXA5-hpO-LQM"
      },
      "source": [
        "**Problem 1**"
      ]
    },
    {
      "cell_type": "markdown",
      "metadata": {
        "id": "Mk-7JMSTZQet"
      },
      "source": [
        "We are tasked with designing a box shaped structure with width w, height h, and depth d. We are given\n",
        "that the total wall area is at most 200 square units, the total floor area is at most 60 square units, and\n",
        "the aspect ratios (h/w and d/w) are at least 0.8 and at most 1.2. Formulate an optimization program to\n",
        "solve for the dimensions h, w and d that results in a box of the largest possible volume, and implement\n",
        "in CVX/CVXPY."
      ]
    },
    {
      "cell_type": "code",
      "metadata": {
        "colab": {
          "base_uri": "https://localhost:8080/"
        },
        "id": "jMojJIrvPjYs",
        "outputId": "511a782d-9a4b-4b9a-dd6d-53acb84cc563"
      },
      "source": [
        "import numpy as np\n",
        "import cvxpy as cp\n",
        "y1=cp.Variable(1,name='y1') \n",
        "y2=cp.Variable(1,name='y2') \n",
        "y3=cp.Variable(1,name='y3') \n",
        "h=cp.exp(y1)\n",
        "w=cp.exp(y2)\n",
        "d=cp.exp(y3)\n",
        "#objective\n",
        "objective=cp.Minimize(-(y1+y2+y3))\n",
        "#constraints\n",
        "constraints = [2*(cp.exp(y1+y2)+cp.exp(y1+y3))<=200, cp.exp(y2+y3)<=60, cp.exp(y1-y2)<=1.2, cp.exp(y3-y2)<=1.2, 0.8*cp.exp(y2-y3)<=1, 0.8*cp.exp(y2-y1)<=1]\n",
        "#solve problem\n",
        "prob = cp.Problem(objective, constraints);\n",
        "print(prob)\n",
        "prob.solve()\n",
        "print('\\n')\n",
        "print ('y1 = ',y1.value[0])\n",
        "print ('h =', np.exp(y1.value[0]))\n",
        "print ('y2 =',y2.value[0])\n",
        "print ('w =', np.exp(y2.value[0]))\n",
        "print ('y3 =',y3.value[0])\n",
        "print ('d =', np.exp(y3.value[0]))\n",
        "print ('optimal volume is ', np.exp(y1.value[0])*np.exp(y2.value[0])*np.exp(y3.value[0]))"
      ],
      "execution_count": null,
      "outputs": [
        {
          "output_type": "stream",
          "text": [
            "minimize -y1 + y2 + y3\n",
            "subject to 2.0 * (exp(y1 + y2) + exp(y1 + y3)) <= 200.0\n",
            "           exp(y2 + y3) <= 60.0\n",
            "           exp(y1 + -y2) <= 1.2\n",
            "           exp(y3 + -y2) <= 1.2\n",
            "           0.8 * exp(y2 + -y3) <= 1.0\n",
            "           0.8 * exp(y2 + -y1) <= 1.0\n",
            "\n",
            "\n",
            "y1 =  1.864850713424119\n",
            "h = 6.454972173365166\n",
            "y2 = 2.047173283710832\n",
            "w = 7.745974458523242\n",
            "y3 = 2.0471711521402454\n",
            "d = 7.745957947449518\n",
            "optimal volume is  387.2982814586268\n"
          ],
          "name": "stdout"
        }
      ]
    },
    {
      "cell_type": "markdown",
      "metadata": {
        "id": "jLwMTE0O-J5Z"
      },
      "source": [
        "**Problem 2**"
      ]
    },
    {
      "cell_type": "code",
      "metadata": {
        "id": "UHR4WLQR86kp"
      },
      "source": [
        "import numpy as np\n",
        "import cvxpy as cvx\n",
        "def min_SINR(G,P_max,P_received,sigma,Group,Group_max,epsilon = 0.05):\n",
        "\n",
        "  n,m = np.shape(G)\n",
        "\n",
        "  delta = np.identity(n)\n",
        "  SignalMatrix = G*np.eye(n) \n",
        "  InterferenceMatrix = G-SignalMatrix \n",
        "  num_groups = int(np.size(Group,0))\n",
        "  Group_norm = np.array([group/np.sum(group) for group in Group])\n",
        "  p = cvx.Variable((n,1))\n",
        "  optimalPow = np.zeros(n)\n",
        "  # upper and lower bounds\n",
        "  u = 1e4\n",
        "  l = 0\n",
        "  \n",
        "  alpha = cvx.Parameter()\n",
        "  constraints = [InterferenceMatrix@p + sigma <= alpha*SignalMatrix*p, p <= P_max, p >= 0, G*p <= P_received, Group_norm*p <= Group_max]\n",
        "\n",
        "  obj = cvx.Minimize(alpha)\n",
        "  alpha.value = u\n",
        "  prob = cvx.Problem(obj, constraints)\n",
        "  prob.solve()\n",
        "  if prob.status != 'optimal':\n",
        "    print('No optimal solution within bounds\\n')\n",
        "    return 'Error: no optimal solution within bounds',np.nan,np.nan,np.nan\n",
        "\n",
        "  alpha.value = l\n",
        "  prob = cvx.Problem(obj, constraints)\n",
        "  prob.solve()\n",
        "  if prob.status == 'optimal':\n",
        "    print('No optimal solution within bounds\\n')\n",
        "    return 'Error: no optimal solution within bounds',np.nan,np.nan,np.nan\n",
        "\n",
        "  # Bisection algortithm starts\n",
        "  maxLoop = int(1e7)\n",
        "  for i in range(1,maxLoop):\n",
        "    alpha.value = (u + l)/2.0\n",
        "    \n",
        "    if u-l <= epsilon:\n",
        "      break\n",
        "    prob = cvx.Problem(obj, constraints)\n",
        "    prob.solve()\n",
        "    if prob.status == 'optimal':\n",
        "      u = alpha.value\n",
        "      optimalPow = p.value\n",
        "    else:\n",
        "      l = alpha.value\n",
        "    if u - l > epsilon and i == (maxLoop-1):\n",
        "      print(\"Solution not converged to order epsilon\")\n",
        "  return l,u,alpha.value,optimalPow\n"
      ],
      "execution_count": null,
      "outputs": []
    },
    {
      "cell_type": "code",
      "metadata": {
        "colab": {
          "base_uri": "https://localhost:8080/"
        },
        "id": "7Vr5V0jm04NB",
        "outputId": "ea9dbf7d-701e-44fa-a183-6728c4e8e90f"
      },
      "source": [
        "  G = np.array([[1.0,0.1,0.2,0.1,0.0],\n",
        "                [0.1,1.0,0.1,0.1,0.0],\n",
        "                [0.2,0.1,2.0,0.2,0.2],\n",
        "                [0.1,0.1,0.2,1.0,0.1],\n",
        "                [0.0,0.0,0.2,0.1,1.0]])\n",
        "\n",
        "  n,m = np.shape(G)\n",
        "  P_max = np.array([3.]*n).reshape((n,1))\n",
        "  P_received = (np.array([5.,5.,5.,5.,5.]).reshape((n,1)))/n\n",
        "  sigma = np.array([0.5,0.5,0.5,0.5,0.5]).reshape((n,1))\n",
        "  Group = np.array([[1.,1.,0,0,0],[0,0,1.,1.,1.]])\n",
        "  Group_max = np.array([[3.0],[6.0]])\n",
        "  l,u,alpha,best=min_SINR(G,P_max,P_received,sigma,Group,Group_max)\n",
        "  print('Minimum SINR=%.4g'%(1/alpha))\n",
        "  print('Power=%s'%(best))"
      ],
      "execution_count": null,
      "outputs": [
        {
          "output_type": "stream",
          "text": [
            "Minimum SINR=0.7598\n",
            "Power=[[0.51316491]\n",
            " [0.49975582]\n",
            " [0.32181663]\n",
            " [0.54193416]\n",
            " [0.46441846]]\n"
          ],
          "name": "stdout"
        }
      ]
    },
    {
      "cell_type": "code",
      "metadata": {
        "id": "bBGIRYRz1Hpa"
      },
      "source": [
        ""
      ],
      "execution_count": null,
      "outputs": []
    }
  ]
}