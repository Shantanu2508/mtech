{
  "nbformat": 4,
  "nbformat_minor": 0,
  "metadata": {
    "colab": {
      "name": "CVXPY_EE20MTECH12001_L6.ipynb",
      "provenance": []
    },
    "kernelspec": {
      "name": "python3",
      "display_name": "Python 3"
    }
  },
  "cells": [
    {
      "cell_type": "markdown",
      "metadata": {
        "id": "N-qDbVOVIS6x"
      },
      "source": [
        "**EE20MTECH12001 : Shantanu Yadav**"
      ]
    },
    {
      "cell_type": "markdown",
      "metadata": {
        "id": "sat9LVPz342n"
      },
      "source": [
        "**Problem Statement**\n",
        "\n",
        "\n",
        "Accessories & co. is producing three kinds of covers for Apple products: one for iPod, one for iPad,  and one for iPhone. The company's production facilities are such that if we devote the entire  production to iPod covers, we can produce 6000 of them in one day. If we devote the entire  production to iPhone covers or iPad covers, we can produce 5000 or 3000 of them in one day. The  production schedule is one week (5 working days), and the week's production must be stored before  distribution. Storing 1000 iPod covers (packaging included) takes up 40 cubic feet of space. Storing  1000 iPhone covers (packaging included) takes up 45 cubic feet of space, and storing 1000 iPad  covers (packaging included) takes up 210 cubic feet of space. The total storage space available is  6000 cubic feet. Due to commercial agreements with Apple, Accessories & co. has to deliver at least  5000 iPod covers and 4000 iPad covers per week in order to strengthen the product's diffusion. The  marketing department estimates that the weekly demand for iPod covers, iPhone, and iPad covers  does not exceed 10000 and 15000 , and 8000 units, therefore the company does not want to  produce more than these amounts for iPod, iPhone, and iPad covers. Finally, the net profit per each  iPod cover, iPhone cover, and iPad cover is $4, 6$ and 10,$ respectively. \n",
        "The aim is to determine a weekly production schedule that maximizes the total net profit. \n",
        "\n",
        "(a) Write a Linear Programming formulation for the problem. Start by stating any assumptions that  you make. Label each constraint (except nonnegativity). For this first formulation, the decision  variables should represent the proportion of time spent each day on producing each of the two  items:\n",
        "\n",
        "x1= proportion of time devoted each day to iPod cover production,  \n",
        "\n",
        "x2= proportion of time devoted each day to iPhone cover production, \n",
        "\n",
        "x3= proportion of time devoted each day to iPad cover production. \n",
        "\n",
        "---\n",
        "\n"
      ]
    },
    {
      "cell_type": "code",
      "metadata": {
        "id": "xG8Yp_1Y33-i"
      },
      "source": [
        "import pandas as pd\n",
        "import numpy as np\n",
        "import cvxpy as cp"
      ],
      "execution_count": 3,
      "outputs": []
    },
    {
      "cell_type": "code",
      "metadata": {
        "id": "axx8No1g9gQa"
      },
      "source": [
        "data=[{'Production limit/day':6000,'Storage (cubic feet)':40,'minimum sale/week':5000,'weekly demand':10000,'Net profit/each item':4},\n",
        "      {'Production limit/day':3000,'Storage (cubic feet)':210,'minimum sale/week':4000,'weekly demand':8000,'Net profit/each item':10},\n",
        "      {'Production limit/day':5000,'Storage (cubic feet)':45,'minimum sale/week':'-','weekly demand':15000,'Net profit/each item':6}]"
      ],
      "execution_count": 4,
      "outputs": []
    },
    {
      "cell_type": "code",
      "metadata": {
        "id": "OfKSOpE1-w52"
      },
      "source": [
        "df=pd.DataFrame(data,index=['iPod','iPad','iPhone'])"
      ],
      "execution_count": 5,
      "outputs": []
    },
    {
      "cell_type": "code",
      "metadata": {
        "colab": {
          "base_uri": "https://localhost:8080/",
          "height": 161
        },
        "id": "zLqWmjkk_dnE",
        "outputId": "d0ed60b2-051b-4a4b-a88e-0e0f19fa1c45"
      },
      "source": [
        "df"
      ],
      "execution_count": 6,
      "outputs": [
        {
          "output_type": "execute_result",
          "data": {
            "text/html": [
              "<div>\n",
              "<style scoped>\n",
              "    .dataframe tbody tr th:only-of-type {\n",
              "        vertical-align: middle;\n",
              "    }\n",
              "\n",
              "    .dataframe tbody tr th {\n",
              "        vertical-align: top;\n",
              "    }\n",
              "\n",
              "    .dataframe thead th {\n",
              "        text-align: right;\n",
              "    }\n",
              "</style>\n",
              "<table border=\"1\" class=\"dataframe\">\n",
              "  <thead>\n",
              "    <tr style=\"text-align: right;\">\n",
              "      <th></th>\n",
              "      <th>Production limit/day</th>\n",
              "      <th>Storage (cubic feet)</th>\n",
              "      <th>minimum sale/week</th>\n",
              "      <th>weekly demand</th>\n",
              "      <th>Net profit/each item</th>\n",
              "    </tr>\n",
              "  </thead>\n",
              "  <tbody>\n",
              "    <tr>\n",
              "      <th>iPod</th>\n",
              "      <td>6000</td>\n",
              "      <td>40</td>\n",
              "      <td>5000</td>\n",
              "      <td>10000</td>\n",
              "      <td>4</td>\n",
              "    </tr>\n",
              "    <tr>\n",
              "      <th>iPad</th>\n",
              "      <td>3000</td>\n",
              "      <td>210</td>\n",
              "      <td>4000</td>\n",
              "      <td>8000</td>\n",
              "      <td>10</td>\n",
              "    </tr>\n",
              "    <tr>\n",
              "      <th>iPhone</th>\n",
              "      <td>5000</td>\n",
              "      <td>45</td>\n",
              "      <td>-</td>\n",
              "      <td>15000</td>\n",
              "      <td>6</td>\n",
              "    </tr>\n",
              "  </tbody>\n",
              "</table>\n",
              "</div>"
            ],
            "text/plain": [
              "        Production limit/day  ...  Net profit/each item\n",
              "iPod                    6000  ...                     4\n",
              "iPad                    3000  ...                    10\n",
              "iPhone                  5000  ...                     6\n",
              "\n",
              "[3 rows x 5 columns]"
            ]
          },
          "metadata": {
            "tags": []
          },
          "execution_count": 6
        }
      ]
    },
    {
      "cell_type": "code",
      "metadata": {
        "id": "x7Z1r1Km_ee2"
      },
      "source": [
        "A=df.to_numpy()"
      ],
      "execution_count": 7,
      "outputs": []
    },
    {
      "cell_type": "code",
      "metadata": {
        "colab": {
          "base_uri": "https://localhost:8080/"
        },
        "id": "lqR-V9TwC1iK",
        "outputId": "e2eaf25c-46f7-4d25-865c-0c18e7fcc9ef"
      },
      "source": [
        "#Printing data matrix\n",
        "A"
      ],
      "execution_count": 8,
      "outputs": [
        {
          "output_type": "execute_result",
          "data": {
            "text/plain": [
              "array([[6000, 40, 5000, 10000, 4],\n",
              "       [3000, 210, 4000, 8000, 10],\n",
              "       [5000, 45, '-', 15000, 6]], dtype=object)"
            ]
          },
          "metadata": {
            "tags": []
          },
          "execution_count": 8
        }
      ]
    },
    {
      "cell_type": "code",
      "metadata": {
        "colab": {
          "base_uri": "https://localhost:8080/"
        },
        "id": "gOmekTDeC3FH",
        "outputId": "1c221f75-8305-4ba6-a563-00f55ca53fc9"
      },
      "source": [
        "working_days=5\n",
        "x=cp.Variable((3,1))\n",
        "Items_Produced_per_day = cp.multiply(np.reshape(A[:,0],(len(A[:,0]),1)),x)\n",
        "Items_Produced_per_week = working_days*Items_Produced_per_day\n",
        "\n",
        "Objective= cp.Maximize(A[:,4].T@Items_Produced_per_week)\n",
        "#Constraints\n",
        "proportion_constraint=[sum(x)<=1]\n",
        "storage_constraint=[sum(cp.multiply(Items_Produced_per_week , np.reshape(A[:,1],(3,1))/1000)) <= 6000]\n",
        "minSale_constraint=[Items_Produced_per_week[0:2,:]>=np.reshape(A[0:2,2],(2,1))]\n",
        "demand_constraint=[ Items_Produced_per_week <= np.reshape(A[:,3],(3,1)) ]\n",
        "positive_constraint=[x>=0]\n",
        "\n",
        "constraints= proportion_constraint + storage_constraint + minSale_constraint + demand_constraint + positive_constraint\n",
        "\n",
        "prob = cp.Problem(Objective, constraints) \n",
        "prob.solve()\n",
        "print( \"Value of net profit is\", prob.solve())\n",
        "print(\"proportion values are\", x.value)"
      ],
      "execution_count": 11,
      "outputs": [
        {
          "output_type": "stream",
          "text": [
            "Value of net profit is 145000.00011527352\n",
            "proportion values are [[0.16666667]\n",
            " [0.4203366 ]\n",
            " [0.41299673]]\n"
          ],
          "name": "stdout"
        }
      ]
    },
    {
      "cell_type": "code",
      "metadata": {
        "id": "bXZ-hPMtbAzY"
      },
      "source": [
        "df['optimal proportional values']=[0.16666667, 0.4203366 , 0.41299673]"
      ],
      "execution_count": 15,
      "outputs": []
    },
    {
      "cell_type": "code",
      "metadata": {
        "colab": {
          "base_uri": "https://localhost:8080/",
          "height": 178
        },
        "id": "78rcODnpH4tv",
        "outputId": "80462891-b6e1-4b3e-e4e8-f3e5a576eb80"
      },
      "source": [
        "df"
      ],
      "execution_count": 16,
      "outputs": [
        {
          "output_type": "execute_result",
          "data": {
            "text/html": [
              "<div>\n",
              "<style scoped>\n",
              "    .dataframe tbody tr th:only-of-type {\n",
              "        vertical-align: middle;\n",
              "    }\n",
              "\n",
              "    .dataframe tbody tr th {\n",
              "        vertical-align: top;\n",
              "    }\n",
              "\n",
              "    .dataframe thead th {\n",
              "        text-align: right;\n",
              "    }\n",
              "</style>\n",
              "<table border=\"1\" class=\"dataframe\">\n",
              "  <thead>\n",
              "    <tr style=\"text-align: right;\">\n",
              "      <th></th>\n",
              "      <th>Production limit/day</th>\n",
              "      <th>Storage (cubic feet)</th>\n",
              "      <th>minimum sale/week</th>\n",
              "      <th>weekly demand</th>\n",
              "      <th>Net profit/each item</th>\n",
              "      <th>optimal proportional values</th>\n",
              "    </tr>\n",
              "  </thead>\n",
              "  <tbody>\n",
              "    <tr>\n",
              "      <th>iPod</th>\n",
              "      <td>6000</td>\n",
              "      <td>40</td>\n",
              "      <td>5000</td>\n",
              "      <td>10000</td>\n",
              "      <td>4</td>\n",
              "      <td>0.166667</td>\n",
              "    </tr>\n",
              "    <tr>\n",
              "      <th>iPad</th>\n",
              "      <td>3000</td>\n",
              "      <td>210</td>\n",
              "      <td>4000</td>\n",
              "      <td>8000</td>\n",
              "      <td>10</td>\n",
              "      <td>0.420337</td>\n",
              "    </tr>\n",
              "    <tr>\n",
              "      <th>iPhone</th>\n",
              "      <td>5000</td>\n",
              "      <td>45</td>\n",
              "      <td>-</td>\n",
              "      <td>15000</td>\n",
              "      <td>6</td>\n",
              "      <td>0.412997</td>\n",
              "    </tr>\n",
              "  </tbody>\n",
              "</table>\n",
              "</div>"
            ],
            "text/plain": [
              "        Production limit/day  ...  optimal proportional values\n",
              "iPod                    6000  ...                     0.166667\n",
              "iPad                    3000  ...                     0.420337\n",
              "iPhone                  5000  ...                     0.412997\n",
              "\n",
              "[3 rows x 6 columns]"
            ]
          },
          "metadata": {
            "tags": []
          },
          "execution_count": 16
        }
      ]
    },
    {
      "cell_type": "code",
      "metadata": {
        "id": "DLPT5IwzHvdi"
      },
      "source": [
        ""
      ],
      "execution_count": null,
      "outputs": []
    }
  ]
}