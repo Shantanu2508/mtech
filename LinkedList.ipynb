{
  "nbformat": 4,
  "nbformat_minor": 0,
  "metadata": {
    "colab": {
      "name": "LinkedList.ipynb",
      "provenance": [],
      "collapsed_sections": [],
      "authorship_tag": "ABX9TyN4TpwqfOn0XhgThQrmx7ky",
      "include_colab_link": true
    },
    "kernelspec": {
      "name": "python3",
      "display_name": "Python 3"
    },
    "language_info": {
      "name": "python"
    }
  },
  "cells": [
    {
      "cell_type": "markdown",
      "metadata": {
        "id": "view-in-github",
        "colab_type": "text"
      },
      "source": [
        "<a href=\"https://colab.research.google.com/github/Shantanu2508/mtech/blob/master/LinkedList.ipynb\" target=\"_parent\"><img src=\"https://colab.research.google.com/assets/colab-badge.svg\" alt=\"Open In Colab\"/></a>"
      ]
    },
    {
      "cell_type": "markdown",
      "metadata": {
        "id": "dYvXFXs2zYBa"
      },
      "source": [
        "Refer : [https://mega.nz/folder/20ok0BJQ#WB4WNrJYMiMao45dBS78mw/folder/Wk4kWJxT](https://mega.nz/folder/20ok0BJQ#WB4WNrJYMiMao45dBS78mw/folder/Wk4kWJxT)"
      ]
    },
    {
      "cell_type": "code",
      "metadata": {
        "id": "FLBf3zBZWK-D"
      },
      "source": [
        "class Node:\n",
        "  def __init__(self,data):\n",
        "    self.data = data\n",
        "    self.next = None\n",
        "    "
      ],
      "execution_count": 1,
      "outputs": []
    },
    {
      "cell_type": "code",
      "metadata": {
        "id": "eO6MXc1WcWxc"
      },
      "source": [
        "def takeInput():\n",
        "  inputList = [int(ele) for ele in input().split()]\n",
        "  head = None\n",
        "  \n",
        "  for i in inputList:\n",
        "    if i == -1:\n",
        "      break\n",
        "    newNode = Node(i)\n",
        "    if head is None:\n",
        "      head = newNode\n",
        "    else:\n",
        "      curr = head\n",
        "      while curr.next is not None:\n",
        "        curr = curr.next\n",
        "      curr.next = newNode\n",
        "  return head\n",
        "\n",
        "#insert at ith position\n",
        "def insert(head,i,data):\n",
        "  prev = None\n",
        "  curr = head\n",
        "  newNode = Node(data)\n",
        "  if i==0 :\n",
        "    newNode.next = head\n",
        "    head = newNode\n",
        "  else:\n",
        "    for count_i in range(i+1):\n",
        "      if count_i == i:\n",
        "        prev.next = newNode\n",
        "        newNode.next = curr\n",
        "        break\n",
        "      else:\n",
        "        prev = curr\n",
        "        curr = curr.next\n",
        "  return head\n",
        "\n",
        "\n",
        "#optimized algo\n",
        "def opt_takeInput():\n",
        "  inputList = [int(ele) for ele in input().split()]\n",
        "  head = None\n",
        "  tail = None\n",
        "  for i in inputList:\n",
        "    if i == -1:\n",
        "      break\n",
        "    newNode = Node(i)\n",
        "    if head is None:\n",
        "      head = newNode\n",
        "      tail = newNode\n",
        "    else:\n",
        "      tail.next = newNode #creating link\n",
        "      tail = newNode #making last node as tail node\n",
        "  return head\n",
        "\n",
        "#delete node at ith positon\n",
        "def delete(head,i):\n",
        "  count = 0\n",
        "  curr = head\n",
        "  prev = None\n",
        "  if i == 0:\n",
        "    head = head.next\n",
        "    curr = None\n",
        "  else:\n",
        "    for count in range(i+1):\n",
        "      if count == i:\n",
        "        prev.next = curr.next\n",
        "        curr = None\n",
        "      else:\n",
        "        prev = curr\n",
        "        curr = curr.next\n",
        "\n",
        "  return head\n",
        "\n",
        "#reverse LL\n",
        "def reverse(head):\n",
        "  prev = None\n",
        "  curr = head\n",
        "  while curr is not None:\n",
        "    if prev is None:\n",
        "      temp = curr.next\n",
        "      curr.next = None\n",
        "      prev = curr\n",
        "      curr = temp\n",
        "    else:\n",
        "      temp = curr.next\n",
        "      curr.next = prev\n",
        "      prev = curr\n",
        "      curr = temp\n",
        "  head = prev\n",
        "  return head\n",
        "\n",
        "# mid-point of LL\n",
        "def midpointLL(head):\n",
        "  slow = head\n",
        "  fast = head\n",
        "  while fast.next != None and fast.next.next != None:\n",
        "    slow = slow.next\n",
        "    fast = fast.next.next\n",
        "  return slow\n",
        "\n",
        "#merge two sorted LL\n",
        "def merge_sorted(h1,h2):\n",
        "  #initialize current pointers\n",
        "  c1 = h1\n",
        "  c2 = h2\n",
        "  #check which head is final head\n",
        "  if h1.data <= h2.data :\n",
        "    fh = h1\n",
        "    ft = h1\n",
        "    c1  = ft.next\n",
        "    #ft.next = c2\n",
        "    #ft = c2\n",
        "    #c2 = c2.next\n",
        "  else:\n",
        "    fh = h2\n",
        "    ft = h2\n",
        "    c2  = ft.next\n",
        "    #ft.next = c1\n",
        "    #ft = c2\n",
        "    #c1 = c1.next\n",
        "  #check current pointers and establish correct links\n",
        "  while c1 is not None and c2 is not None:\n",
        "    if c1.data < c2.data :\n",
        "      ft.next = c1\n",
        "      ft = c1\n",
        "      c1 = c1.next\n",
        "    else:\n",
        "      ft.next = c2\n",
        "      ft = c2\n",
        "      c2 = c2.next\n",
        "  if c2 is None:\n",
        "    while c1 is not None:\n",
        "      ft.next = c1\n",
        "      ft = c1\n",
        "      c1 = c1.next\n",
        "  if c1 is None:\n",
        "    while c2 is not None:\n",
        "      ft.next = c2\n",
        "      ft = c2\n",
        "      c2 = c2.next\n",
        "  return fh\n",
        "\n",
        "  \n",
        "\n",
        "def printLL(head):\n",
        "  while head is not None:\n",
        "    print(str(head.data)+\" -> \",end=\"\")\n",
        "    head = head.next\n",
        "  print(\"None\")"
      ],
      "execution_count": 37,
      "outputs": []
    },
    {
      "cell_type": "code",
      "metadata": {
        "colab": {
          "base_uri": "https://localhost:8080/"
        },
        "id": "bsuK05B_WQ6K",
        "outputId": "6da53bdc-8f0c-46b5-a996-bbbb69424e0a"
      },
      "source": [
        "h1 = takeInput()\n",
        "printLL(h1)\n",
        "h2 = takeInput()\n",
        "printLL(h2)"
      ],
      "execution_count": 35,
      "outputs": [
        {
          "output_type": "stream",
          "text": [
            "5 10 15 40 -1\n",
            "5 -> 10 -> 15 -> 40 -> None\n",
            "2 3 20 -1\n",
            "2 -> 3 -> 20 -> None\n"
          ],
          "name": "stdout"
        }
      ]
    },
    {
      "cell_type": "code",
      "metadata": {
        "id": "YnK_zgNIbP2O",
        "colab": {
          "base_uri": "https://localhost:8080/"
        },
        "outputId": "1c410175-887b-40d9-8928-b393e288a9cd"
      },
      "source": [
        "head = merge_sorted(h1,h2)\n",
        "printLL(head)"
      ],
      "execution_count": 36,
      "outputs": [
        {
          "output_type": "stream",
          "text": [
            "2 -> 3 -> 5 -> 10 -> 15 -> 20 -> 40 -> None\n"
          ],
          "name": "stdout"
        }
      ]
    },
    {
      "cell_type": "code",
      "metadata": {
        "id": "-hCSqAbyadXf",
        "colab": {
          "base_uri": "https://localhost:8080/"
        },
        "outputId": "e25e0fcc-cba7-49f5-bb7c-5302c2804b59"
      },
      "source": [
        "printLL(head)\n",
        "head = delete(head,1)\n",
        "printLL(head)"
      ],
      "execution_count": 9,
      "outputs": [
        {
          "output_type": "stream",
          "text": [
            "1 -> 2 -> 3 -> None\n",
            "1 -> 3 -> None\n"
          ],
          "name": "stdout"
        }
      ]
    },
    {
      "cell_type": "code",
      "metadata": {
        "colab": {
          "base_uri": "https://localhost:8080/"
        },
        "id": "6_mIe0MRj4bd",
        "outputId": "62841c33-4d8a-4f20-af06-0347ba6260d1"
      },
      "source": [
        "h1.data"
      ],
      "execution_count": 21,
      "outputs": [
        {
          "output_type": "execute_result",
          "data": {
            "text/plain": [
              "1"
            ]
          },
          "metadata": {
            "tags": []
          },
          "execution_count": 21
        }
      ]
    },
    {
      "cell_type": "code",
      "metadata": {
        "colab": {
          "base_uri": "https://localhost:8080/"
        },
        "id": "-yqCIdpC0AFo",
        "outputId": "53c0a837-6180-4759-9168-149c08fcea73"
      },
      "source": [
        "h2.data"
      ],
      "execution_count": 22,
      "outputs": [
        {
          "output_type": "execute_result",
          "data": {
            "text/plain": [
              "2"
            ]
          },
          "metadata": {
            "tags": []
          },
          "execution_count": 22
        }
      ]
    },
    {
      "cell_type": "code",
      "metadata": {
        "id": "wug_OZcE0BKr"
      },
      "source": [
        ""
      ],
      "execution_count": null,
      "outputs": []
    }
  ]
}